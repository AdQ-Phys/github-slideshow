{
 "cells": [
  {
   "cell_type": "code",
   "execution_count": 18,
   "metadata": {},
   "outputs": [
    {
     "data": {
      "text/plain": [
       "'2.1.6-tf'"
      ]
     },
     "execution_count": 18,
     "metadata": {},
     "output_type": "execute_result"
    }
   ],
   "source": [
    "import tensorflow.keras\n",
    "tensorflow.keras.__version__"
   ]
  },
  {
   "cell_type": "markdown",
   "metadata": {},
   "source": [
    "# Первое знакомство с нейронной сетью\n",
    "\n",
    "Рассмотрим конкретный пример нейронной сети, которая обучается классифика-\n",
    "ции рукописных цифр и создана с помощью библиотеки Keras для Python. Если\n",
    "у вас нет опыта использования Keras или других подобных библиотек, возможно,\n",
    "вы не все поймете в этом первом примере. Может быть, вы еще не установили Keras;\n",
    "в этом нет ничего страшного. В следующей главе мы рассмотрим каждый элемент\n",
    "в примере и подробно объясним их. Поэтому не волнуйтесь, если какие-то шаги\n",
    "покажутся непонятным и или похожими на магию. В конце концов, мы должны\n",
    "с чего-то начать.\n",
    "\n",
    "Перед нами стоит задача: реализовать классификацию черно-белых изображений\n",
    "рукописных цифр (28 × 28 пикселов) по 10 категориям (от 0 до 9). Мы будем\n",
    "использовать набор данных MNIST, популярный в сообществе исследователей\n",
    "глубокого обучения, который существует практически столько же, сколько сама\n",
    "область машинного обучения, и широко используется для обучения. Этот набор\n",
    "содержит 60 000 обучающих изображений и 10 000 контрольных изображений,\n",
    "собранных Национальным институтом стандартов и технологий США (National\n",
    "Institute of Standards and Technology — часть NIST в аббревиатуре MNIST) в 1980‐х.\n",
    "«Решение» задачи MNIST можно рассматривать как своеобразный аналог «Hello\n",
    "World» в глубоком обучении — часто это первое действие, которое выполняется,\n",
    "чтобы убедиться, что алгоритмы действуют в точности как ожидалось. По мере\n",
    "углубления в практику машинного обучения вы увидите, что MNIST часто упоминается в научных статьях, блогах и т. д."
   ]
  },
  {
   "cell_type": "markdown",
   "metadata": {},
   "source": [
    "Набор данных MNIST уже входит в состав Keras в форме набора из четырех мас-\n",
    "сивов Numpy."
   ]
  },
  {
   "cell_type": "code",
   "execution_count": 19,
   "metadata": {},
   "outputs": [],
   "source": [
    "from tensorflow.keras.datasets import mnist\n",
    "\n",
    "(train_images, train_labels), (test_images, test_labels) = mnist.load_data()"
   ]
  },
  {
   "cell_type": "markdown",
   "metadata": {},
   "source": [
    "Здесь train_images и  train_labels  — это тренировочный набор, то есть данные,\n",
    "необходимые для обучения. После обучения модель будет проверяться тестовым\n",
    "(или контрольным) набором, test_images и  test_labels.\n",
    "Изображения хранятся в массивах Numpy, а метки — в массиве цифр от 0 до 9. Изо-\n",
    "бражения и метки находятся в прямом соответствии, один к одному.\n",
    "\n",
    "Рассмотрим обучающие данные:"
   ]
  },
  {
   "cell_type": "code",
   "execution_count": 20,
   "metadata": {},
   "outputs": [
    {
     "data": {
      "text/plain": [
       "(60000, 28, 28)"
      ]
     },
     "execution_count": 20,
     "metadata": {},
     "output_type": "execute_result"
    }
   ],
   "source": [
    "train_images.shape"
   ]
  },
  {
   "cell_type": "code",
   "execution_count": 21,
   "metadata": {},
   "outputs": [
    {
     "data": {
      "text/plain": [
       "60000"
      ]
     },
     "execution_count": 21,
     "metadata": {},
     "output_type": "execute_result"
    }
   ],
   "source": [
    "len(train_labels)"
   ]
  },
  {
   "cell_type": "code",
   "execution_count": 22,
   "metadata": {},
   "outputs": [
    {
     "data": {
      "text/plain": [
       "array([5, 0, 4, ..., 5, 6, 8], dtype=uint8)"
      ]
     },
     "execution_count": 22,
     "metadata": {},
     "output_type": "execute_result"
    }
   ],
   "source": [
    "train_labels"
   ]
  },
  {
   "cell_type": "markdown",
   "metadata": {},
   "source": [
    "И контрольные данные:"
   ]
  },
  {
   "cell_type": "code",
   "execution_count": 23,
   "metadata": {},
   "outputs": [
    {
     "data": {
      "text/plain": [
       "(10000, 28, 28)"
      ]
     },
     "execution_count": 23,
     "metadata": {},
     "output_type": "execute_result"
    }
   ],
   "source": [
    "test_images.shape"
   ]
  },
  {
   "cell_type": "code",
   "execution_count": 24,
   "metadata": {},
   "outputs": [
    {
     "data": {
      "text/plain": [
       "10000"
      ]
     },
     "execution_count": 24,
     "metadata": {},
     "output_type": "execute_result"
    }
   ],
   "source": [
    "len(test_labels)"
   ]
  },
  {
   "cell_type": "code",
   "execution_count": 25,
   "metadata": {},
   "outputs": [
    {
     "data": {
      "text/plain": [
       "array([7, 2, 1, ..., 4, 5, 6], dtype=uint8)"
      ]
     },
     "execution_count": 25,
     "metadata": {},
     "output_type": "execute_result"
    }
   ],
   "source": [
    "test_labels"
   ]
  },
  {
   "cell_type": "markdown",
   "metadata": {},
   "source": [
    "Сначала передадим нейронной сети обучающие данные, train_images и  train_labels.\n",
    "В результате этого сеть обучится сопоставлять изображения с метками.\n",
    "Затем мы предложим сети классифицировать изображения в  test_images и\n",
    "проверим точность классификации по меткам из test_labels.\n",
    "Теперь сконструируем сеть."
   ]
  },
  {
   "cell_type": "code",
   "execution_count": 26,
   "metadata": {},
   "outputs": [],
   "source": [
    "from tensorflow.keras import models\n",
    "from tensorflow.keras import layers\n",
    "\n",
    "network = models.Sequential()\n",
    "network.add(layers.Dense(512, activation='relu', input_shape=(28 * 28,)))\n",
    "network.add(layers.Dense(10, activation='softmax'))"
   ]
  },
  {
   "cell_type": "markdown",
   "metadata": {},
   "source": [
    "Основным строительным блоком нейронных сетей является слой (или уровень),\n",
    "модуль обработки данных, который можно рассматривать как фильтр для данных.\n",
    "Он принимает некоторые данные и выводит их в более полезной форме. В частности,\n",
    "слои извлекают представления из подаваемых в них данных, которые, как мы\n",
    "надеемся, будут иметь больше смысла для решаемой задачи. Фактически методика\n",
    "глубокого обучения заключается в объединении простых слоев, реализующих не-\n",
    "которую форму поэтапной очистки данных. Модель глубокого обучения можно\n",
    "сравнить с ситом, состоящим из последовательности фильтров все более тонкой\n",
    "очистки данных — слоев.\n",
    "\n",
    "В данном случае наша сеть состоит из последовательности двух слоев Dense , которые являются тесно связанными (их еще называют полносвязными) нейронными слоями. Второй (и последний) слой — это 10-переменный слой потерь (softmax\n",
    "layer), возвращающий массив с 10 оценками вероятностей (в сумме дающих 1).\n",
    "Каждая оценка определяет вероятность принадлежности текущего изображения\n",
    "к одному из 10 классов цифр.\n",
    "\n",
    "Чтобы подготовить сеть к обучению, нужно настроить еще три параметра для этапа\n",
    "компиляции:\n",
    "\n",
    "* функцию потерь, которая определяет, как сеть должна оценивать качество\n",
    "своей работы на обучающих данных и, соответственно, как корректировать ее\n",
    "в правильном направлении;\n",
    "* оптимизатор — механизм, с помощью которого сеть будет обновлять себя,\n",
    "опираясь на наблюдаемые данные и функцию потерь;\n",
    "* метрики для мониторинга на этапах обучения и тестирования — здесь нас\n",
    "будет интересовать только точность (доля правильно классифицированных\n",
    "изображений)."
   ]
  },
  {
   "cell_type": "code",
   "execution_count": 27,
   "metadata": {},
   "outputs": [],
   "source": [
    "network.compile(optimizer='rmsprop',\n",
    "                loss='categorical_crossentropy',\n",
    "                metrics=['accuracy'])"
   ]
  },
  {
   "cell_type": "markdown",
   "metadata": {},
   "source": [
    "\n",
    "Перед обучением мы выполним предварительную обработку данных, преобразовав\n",
    "их в форму, которую ожидает получить нейронная сеть, и масштабируем их так,\n",
    "чтобы все значения оказались в интервале [0, 1] . Исходные данные — обучаю-\n",
    "щие изображения — хранятся в трехмерном массиве (60000, 28, 28) типа uint8 ,\n",
    "значениями в котором являются числа в интервале [0, 255] . Мы преобразуем его\n",
    "в массив (60000, 28 * 28) типа float32 со значениями в интервале [0, 1] ."
   ]
  },
  {
   "cell_type": "code",
   "execution_count": 28,
   "metadata": {},
   "outputs": [],
   "source": [
    "train_images = train_images.reshape((60000, 28 * 28))\n",
    "train_images = train_images.astype('float32') / 255\n",
    "\n",
    "test_images = test_images.reshape((10000, 28 * 28))\n",
    "test_images = test_images.astype('float32') / 255"
   ]
  },
  {
   "cell_type": "markdown",
   "metadata": {},
   "source": [
    "Нам также нужно закодировать метки категорий. Этот шаг подробнее объясняется позже."
   ]
  },
  {
   "cell_type": "code",
   "execution_count": 29,
   "metadata": {},
   "outputs": [],
   "source": [
    "from tensorflow.keras.utils import to_categorical\n",
    "\n",
    "train_labels = to_categorical(train_labels)\n",
    "test_labels = to_categorical(test_labels)"
   ]
  },
  {
   "cell_type": "markdown",
   "metadata": {},
   "source": [
    "Теперь можно начинать обучение сети, для чего в случае использования библиотеки\n",
    "Keras достаточно вызвать метод fit сети — он пытается адаптировать (fit) модель\n",
    "под обучающие данные:"
   ]
  },
  {
   "cell_type": "code",
   "execution_count": 30,
   "metadata": {},
   "outputs": [
    {
     "name": "stdout",
     "output_type": "stream",
     "text": [
      "Epoch 1/5\n",
      "60000/60000 [==============================] - 1s 11us/step - loss: 0.2599 - acc: 0.9239\n",
      "Epoch 2/5\n",
      "60000/60000 [==============================] - 1s 9us/step - loss: 0.1038 - acc: 0.9695\n",
      "Epoch 3/5\n",
      "60000/60000 [==============================] - 1s 9us/step - loss: 0.0680 - acc: 0.9795\n",
      "Epoch 4/5\n",
      "60000/60000 [==============================] - 1s 9us/step - loss: 0.0499 - acc: 0.9849\n",
      "Epoch 5/5\n",
      "60000/60000 [==============================] - 1s 9us/step - loss: 0.0372 - acc: 0.9887\n"
     ]
    },
    {
     "data": {
      "text/plain": [
       "<tensorflow.python.keras.callbacks.History at 0x7fa5f2ad6650>"
      ]
     },
     "execution_count": 30,
     "metadata": {},
     "output_type": "execute_result"
    }
   ],
   "source": [
    "network.fit(train_images, train_labels, epochs=5, batch_size=128)"
   ]
  },
  {
   "cell_type": "markdown",
   "metadata": {},
   "source": [
    "В процессе обучения отображаются две величины: потери сети на обучающих\n",
    "данных и точность сети на обучающих данных.\n",
    "В данном случае мы достигли точности 0,9972 (99,7%) на обучающих данных. Теперь\n",
    "проверим, как модель распознает контрольный набор:"
   ]
  },
  {
   "cell_type": "code",
   "execution_count": 31,
   "metadata": {},
   "outputs": [
    {
     "name": "stdout",
     "output_type": "stream",
     "text": [
      "10000/10000 [==============================] - 0s 18us/step\n"
     ]
    }
   ],
   "source": [
    "test_loss, test_acc = network.evaluate(test_images, test_labels)"
   ]
  },
  {
   "cell_type": "code",
   "execution_count": 32,
   "metadata": {},
   "outputs": [
    {
     "name": "stdout",
     "output_type": "stream",
     "text": [
      "('test_acc:', 0.9813)\n"
     ]
    }
   ],
   "source": [
    "print('test_acc:', test_acc)"
   ]
  },
  {
   "cell_type": "markdown",
   "metadata": {},
   "source": [
    "Точность на контрольном наборе составила 98,1 % — немного меньше, чем на трени-\n",
    "ровочном наборе. Эта разница между точностью на тренировочном и контрольном\n",
    "наборах демонстрирует пример переобучения (overfitting), когда модели машинного\n",
    "обучения показывают худшую точность на новом наборе данных по сравнению\n",
    "с тренировочным. Основная речь о переобучении пойдет позже."
   ]
  },
  {
   "cell_type": "code",
   "execution_count": 33,
   "metadata": {},
   "outputs": [
    {
     "data": {
      "text/plain": [
       "array([3.3505327e-11, 4.1083820e-07, 9.9999940e-01, 8.4809969e-08,\n",
       "       7.5834258e-17, 3.2604346e-09, 1.3253010e-09, 3.4211181e-17,\n",
       "       7.3030762e-08, 6.4009145e-15], dtype=float32)"
      ]
     },
     "execution_count": 33,
     "metadata": {},
     "output_type": "execute_result"
    }
   ],
   "source": [
    "pr=network.predict(test_images)[1]\n",
    "pr"
   ]
  },
  {
   "cell_type": "code",
   "execution_count": 34,
   "metadata": {},
   "outputs": [
    {
     "data": {
      "text/plain": [
       "<matplotlib.image.AxesImage at 0x7fa570813d10>"
      ]
     },
     "execution_count": 34,
     "metadata": {},
     "output_type": "execute_result"
    },
    {
     "data": {
      "image/png": "[encoded data removed]",
      "text/plain": [
       "<Figure size 432x288 with 1 Axes>"
      ]
     },
     "metadata": {
      "needs_background": "light"
     },
     "output_type": "display_data"
    }
   ],
   "source": [
    "%matplotlib inline\n",
    "import matplotlib.pyplot as plt\n",
    "plt.imshow(test_images[1].reshape([28,28]))"
   ]
  }
 ],
 "metadata": {
  "kernelspec": {
   "display_name": "Python 2",
   "language": "python",
   "name": "python2"
  },
  "language_info": {
   "codemirror_mode": {
    "name": "ipython",
    "version": 2
   },
   "file_extension": ".py",
   "mimetype": "text/x-python",
   "name": "python",
   "nbconvert_exporter": "python",
   "pygments_lexer": "ipython2",
   "version": "2.7.12"
  }
 },
 "nbformat": 4,
 "nbformat_minor": 2
}
